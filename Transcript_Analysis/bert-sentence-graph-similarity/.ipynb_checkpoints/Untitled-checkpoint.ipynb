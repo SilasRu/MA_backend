{
 "cells": [
  {
   "cell_type": "code",
   "execution_count": 57,
   "id": "bb7a7e9f-6c77-4d9b-bfc2-6258c8630de4",
   "metadata": {},
   "outputs": [],
   "source": [
    "from Transcript_Analysis import Transcript\n",
    "import json"
   ]
  },
  {
   "cell_type": "code",
   "execution_count": null,
   "id": "6cef2c7d-a100-4d28-990f-07431ac75ed0",
   "metadata": {},
   "outputs": [],
   "source": [
    "with open('../sample_data/sample_01.json', ')\n",
    "transcript = Transcript()"
   ]
  }
 ],
 "metadata": {
  "kernelspec": {
   "display_name": "Python [conda env:general]",
   "language": "python",
   "name": "conda-env-general-py"
  },
  "language_info": {
   "codemirror_mode": {
    "name": "ipython",
    "version": 3
   },
   "file_extension": ".py",
   "mimetype": "text/x-python",
   "name": "python",
   "nbconvert_exporter": "python",
   "pygments_lexer": "ipython3",
   "version": "3.8.12"
  }
 },
 "nbformat": 4,
 "nbformat_minor": 5
}
