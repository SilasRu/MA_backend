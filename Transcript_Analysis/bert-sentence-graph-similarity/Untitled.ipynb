{
 "cells": [
  {
   "cell_type": "code",
   "execution_count": 4,
   "id": "bb7a7e9f-6c77-4d9b-bfc2-6258c8630de4",
   "metadata": {},
   "outputs": [],
   "source": [
    "from Transcript_Analysis import Transcript\n",
    "import json"
   ]
  },
  {
   "cell_type": "code",
   "execution_count": 25,
   "id": "6cef2c7d-a100-4d28-990f-07431ac75ed0",
   "metadata": {},
   "outputs": [
    {
     "name": "stdout",
     "output_type": "stream",
     "text": [
      "What traditions you do for Mother's.Day? Well, my kids plan Mother's Day. I never know what's going to happen or how it's going to be last year my older son flew in from boarding school and they all surprised me and made this huge breakfast in bed. And it was just amazing often. They take me with their godparents out for lunch. I don't know. They just tell me block it out and we'll see and sometimes my middle son because his birthday is yesterday. Well, yeah, sometimes it falls on Mother's Day. So we split the day double Wham it's like a double Joy. So it just depends they plan it I never know that's fantastic. You've.got gorgeous skin. What's your best get Beauty secret. you know, it's a genetic thing. I think, you know, I Really lucky skin but I do really use a lot of moisturizer and I use a tinted sunblock that I just smear on like, oh my God cream every morning and I have it on now and that's my thing because I'm a sun worshiper as you all have seen a million times me in a bathing suit and on a boat at the beach and and I drive a convertible, you know, I just don't stop taking the Sun so I try to wear it tinted son. Blocked. It's at least like a 50 now that I'm grown up and have already done it to myself. So that's a that's a very good Beauty secret. I like it. Thank you. Thank you so much. Bye. Bye.\n"
     ]
    }
   ],
   "source": [
    "with open('../sample_data/sample_40.json', 'r') as f:\n",
    "    data = json.load(f)\n",
    "    f.close()\n",
    "transcript = Transcript(data)\n",
    "print(transcript.text)"
   ]
  },
  {
   "cell_type": "code",
   "execution_count": null,
   "id": "62a9c6bf-7cea-4743-8c03-32d3696870f4",
   "metadata": {},
   "outputs": [],
   "source": []
  }
 ],
 "metadata": {
  "kernelspec": {
   "display_name": "Python [conda env:general]",
   "language": "python",
   "name": "conda-env-general-py"
  },
  "language_info": {
   "codemirror_mode": {
    "name": "ipython",
    "version": 3
   },
   "file_extension": ".py",
   "mimetype": "text/x-python",
   "name": "python",
   "nbconvert_exporter": "python",
   "pygments_lexer": "ipython3",
   "version": "3.8.12"
  }
 },
 "nbformat": 4,
 "nbformat_minor": 5
}
